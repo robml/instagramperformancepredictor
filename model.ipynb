{
  "nbformat": 4,
  "nbformat_minor": 0,
  "metadata": {
    "colab": {
      "name": "model.ipynb",
      "provenance": []
    },
    "kernelspec": {
      "name": "python3",
      "display_name": "Python 3"
    },
    "language_info": {
      "name": "python"
    },
    "widgets": {
      "application/vnd.jupyter.widget-state+json": {
        "da9112c180984a7ca45f298c0fc871e6": {
          "model_module": "@jupyter-widgets/controls",
          "model_name": "VBoxModel",
          "state": {
            "_view_name": "VBoxView",
            "_dom_classes": [],
            "_model_name": "VBoxModel",
            "_view_module": "@jupyter-widgets/controls",
            "_model_module_version": "1.5.0",
            "_view_count": null,
            "_view_module_version": "1.5.0",
            "box_style": "",
            "layout": "IPY_MODEL_606663871fc24ccc90387f76cc920c4a",
            "_model_module": "@jupyter-widgets/controls",
            "children": [
              "IPY_MODEL_1e109208bdaf421eb276e8901c556ed2",
              "IPY_MODEL_01859de2716b4156ac748d81028ed715",
              "IPY_MODEL_8392ce87deea4c5e830b7afec32ce1df",
              "IPY_MODEL_9ab8d2152cb04e36986ce42934951731",
              "IPY_MODEL_6891bd09db0a42a0ac53f98d6099a2bf"
            ]
          }
        },
        "606663871fc24ccc90387f76cc920c4a": {
          "model_module": "@jupyter-widgets/base",
          "model_name": "LayoutModel",
          "state": {
            "_view_name": "LayoutView",
            "grid_template_rows": null,
            "right": null,
            "justify_content": null,
            "_view_module": "@jupyter-widgets/base",
            "overflow": null,
            "_model_module_version": "1.2.0",
            "_view_count": null,
            "flex_flow": null,
            "width": null,
            "min_width": null,
            "border": null,
            "align_items": null,
            "bottom": null,
            "_model_module": "@jupyter-widgets/base",
            "top": null,
            "grid_column": null,
            "overflow_y": null,
            "overflow_x": null,
            "grid_auto_flow": null,
            "grid_area": null,
            "grid_template_columns": null,
            "flex": null,
            "_model_name": "LayoutModel",
            "justify_items": null,
            "grid_row": null,
            "max_height": null,
            "align_content": null,
            "visibility": null,
            "align_self": null,
            "height": null,
            "min_height": null,
            "padding": null,
            "grid_auto_rows": null,
            "grid_gap": null,
            "max_width": null,
            "order": null,
            "_view_module_version": "1.2.0",
            "grid_template_areas": null,
            "object_position": null,
            "object_fit": null,
            "grid_auto_columns": null,
            "margin": null,
            "display": null,
            "left": null
          }
        },
        "1e109208bdaf421eb276e8901c556ed2": {
          "model_module": "@jupyter-widgets/controls",
          "model_name": "LabelModel",
          "state": {
            "_view_name": "LabelView",
            "style": "IPY_MODEL_ce619022480a4906adb383c3d33ab588",
            "_dom_classes": [],
            "description": "",
            "_model_name": "LabelModel",
            "placeholder": "​",
            "_view_module": "@jupyter-widgets/controls",
            "_model_module_version": "1.5.0",
            "value": "Find the expected performance of your next #pet post!",
            "_view_count": null,
            "_view_module_version": "1.5.0",
            "description_tooltip": null,
            "_model_module": "@jupyter-widgets/controls",
            "layout": "IPY_MODEL_03005fab4af141ba9c4139d087257c48"
          }
        },
        "01859de2716b4156ac748d81028ed715": {
          "model_module": "@jupyter-widgets/controls",
          "model_name": "FileUploadModel",
          "state": {
            "_view_name": "FileUploadView",
            "_counter": 1,
            "style": "IPY_MODEL_bd493c78943b4004a5246867f1b51d68",
            "_dom_classes": [],
            "description": "Upload",
            "multiple": false,
            "_model_name": "FileUploadModel",
            "data": [
              null
            ],
            "button_style": "",
            "_view_module": "@jupyter-widgets/controls",
            "_model_module_version": "1.5.0",
            "accept": "",
            "_view_count": null,
            "disabled": false,
            "_view_module_version": "1.5.0",
            "error": "",
            "description_tooltip": null,
            "metadata": [
              {
                "name": "lazycat.png",
                "type": "image/png",
                "size": 141104,
                "lastModified": 1598715975336
              }
            ],
            "_model_module": "@jupyter-widgets/controls",
            "layout": "IPY_MODEL_38972340e0ab4db480603971fdda394b",
            "icon": "upload"
          }
        },
        "8392ce87deea4c5e830b7afec32ce1df": {
          "model_module": "@jupyter-widgets/controls",
          "model_name": "ButtonModel",
          "state": {
            "_view_name": "ButtonView",
            "style": "IPY_MODEL_7ccbb1f3f7624d6c94ea54efc5eb67d6",
            "_dom_classes": [],
            "description": "Classify",
            "_model_name": "ButtonModel",
            "button_style": "",
            "_view_module": "@jupyter-widgets/controls",
            "_model_module_version": "1.5.0",
            "tooltip": "",
            "_view_count": null,
            "disabled": false,
            "_view_module_version": "1.5.0",
            "layout": "IPY_MODEL_99366e6773d9466494ce3b28d6ebcf48",
            "_model_module": "@jupyter-widgets/controls",
            "icon": ""
          }
        },
        "9ab8d2152cb04e36986ce42934951731": {
          "model_module": "@jupyter-widgets/output",
          "model_name": "OutputModel",
          "state": {
            "_view_name": "OutputView",
            "msg_id": "",
            "_dom_classes": [],
            "_model_name": "OutputModel",
            "outputs": [
              {
                "output_type": "display_data",
                "metadata": {
                  "tags": []
                },
                "image/png": "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\n",
                "text/plain": "<PIL.Image.Image image mode=RGB size=128x96 at 0x7FE957154B10>"
              }
            ],
            "_view_module": "@jupyter-widgets/output",
            "_model_module_version": "1.0.0",
            "_view_count": null,
            "_view_module_version": "1.0.0",
            "layout": "IPY_MODEL_5252b111c1a14ac29284c076cd8bcdda",
            "_model_module": "@jupyter-widgets/output"
          }
        },
        "6891bd09db0a42a0ac53f98d6099a2bf": {
          "model_module": "@jupyter-widgets/controls",
          "model_name": "LabelModel",
          "state": {
            "_view_name": "LabelView",
            "style": "IPY_MODEL_c678058eabc94a39b592cebdcf02d390",
            "_dom_classes": [],
            "description": "",
            "_model_name": "LabelModel",
            "placeholder": "​",
            "_view_module": "@jupyter-widgets/controls",
            "_model_module_version": "1.5.0",
            "value": "Prediction: average; Probability: 0.4334",
            "_view_count": null,
            "_view_module_version": "1.5.0",
            "description_tooltip": null,
            "_model_module": "@jupyter-widgets/controls",
            "layout": "IPY_MODEL_bf429eae4805428f989aed2e77a6ca16"
          }
        },
        "ce619022480a4906adb383c3d33ab588": {
          "model_module": "@jupyter-widgets/controls",
          "model_name": "DescriptionStyleModel",
          "state": {
            "_view_name": "StyleView",
            "_model_name": "DescriptionStyleModel",
            "description_width": "",
            "_view_module": "@jupyter-widgets/base",
            "_model_module_version": "1.5.0",
            "_view_count": null,
            "_view_module_version": "1.2.0",
            "_model_module": "@jupyter-widgets/controls"
          }
        },
        "03005fab4af141ba9c4139d087257c48": {
          "model_module": "@jupyter-widgets/base",
          "model_name": "LayoutModel",
          "state": {
            "_view_name": "LayoutView",
            "grid_template_rows": null,
            "right": null,
            "justify_content": null,
            "_view_module": "@jupyter-widgets/base",
            "overflow": null,
            "_model_module_version": "1.2.0",
            "_view_count": null,
            "flex_flow": null,
            "width": null,
            "min_width": null,
            "border": null,
            "align_items": null,
            "bottom": null,
            "_model_module": "@jupyter-widgets/base",
            "top": null,
            "grid_column": null,
            "overflow_y": null,
            "overflow_x": null,
            "grid_auto_flow": null,
            "grid_area": null,
            "grid_template_columns": null,
            "flex": null,
            "_model_name": "LayoutModel",
            "justify_items": null,
            "grid_row": null,
            "max_height": null,
            "align_content": null,
            "visibility": null,
            "align_self": null,
            "height": null,
            "min_height": null,
            "padding": null,
            "grid_auto_rows": null,
            "grid_gap": null,
            "max_width": null,
            "order": null,
            "_view_module_version": "1.2.0",
            "grid_template_areas": null,
            "object_position": null,
            "object_fit": null,
            "grid_auto_columns": null,
            "margin": null,
            "display": null,
            "left": null
          }
        },
        "bd493c78943b4004a5246867f1b51d68": {
          "model_module": "@jupyter-widgets/controls",
          "model_name": "ButtonStyleModel",
          "state": {
            "_view_name": "StyleView",
            "_model_name": "ButtonStyleModel",
            "_view_module": "@jupyter-widgets/base",
            "_model_module_version": "1.5.0",
            "_view_count": null,
            "button_color": null,
            "font_weight": "",
            "_view_module_version": "1.2.0",
            "_model_module": "@jupyter-widgets/controls"
          }
        },
        "38972340e0ab4db480603971fdda394b": {
          "model_module": "@jupyter-widgets/base",
          "model_name": "LayoutModel",
          "state": {
            "_view_name": "LayoutView",
            "grid_template_rows": null,
            "right": null,
            "justify_content": null,
            "_view_module": "@jupyter-widgets/base",
            "overflow": null,
            "_model_module_version": "1.2.0",
            "_view_count": null,
            "flex_flow": null,
            "width": null,
            "min_width": null,
            "border": null,
            "align_items": null,
            "bottom": null,
            "_model_module": "@jupyter-widgets/base",
            "top": null,
            "grid_column": null,
            "overflow_y": null,
            "overflow_x": null,
            "grid_auto_flow": null,
            "grid_area": null,
            "grid_template_columns": null,
            "flex": null,
            "_model_name": "LayoutModel",
            "justify_items": null,
            "grid_row": null,
            "max_height": null,
            "align_content": null,
            "visibility": null,
            "align_self": null,
            "height": null,
            "min_height": null,
            "padding": null,
            "grid_auto_rows": null,
            "grid_gap": null,
            "max_width": null,
            "order": null,
            "_view_module_version": "1.2.0",
            "grid_template_areas": null,
            "object_position": null,
            "object_fit": null,
            "grid_auto_columns": null,
            "margin": null,
            "display": null,
            "left": null
          }
        },
        "7ccbb1f3f7624d6c94ea54efc5eb67d6": {
          "model_module": "@jupyter-widgets/controls",
          "model_name": "ButtonStyleModel",
          "state": {
            "_view_name": "StyleView",
            "_model_name": "ButtonStyleModel",
            "_view_module": "@jupyter-widgets/base",
            "_model_module_version": "1.5.0",
            "_view_count": null,
            "button_color": null,
            "font_weight": "",
            "_view_module_version": "1.2.0",
            "_model_module": "@jupyter-widgets/controls"
          }
        },
        "99366e6773d9466494ce3b28d6ebcf48": {
          "model_module": "@jupyter-widgets/base",
          "model_name": "LayoutModel",
          "state": {
            "_view_name": "LayoutView",
            "grid_template_rows": null,
            "right": null,
            "justify_content": null,
            "_view_module": "@jupyter-widgets/base",
            "overflow": null,
            "_model_module_version": "1.2.0",
            "_view_count": null,
            "flex_flow": null,
            "width": null,
            "min_width": null,
            "border": null,
            "align_items": null,
            "bottom": null,
            "_model_module": "@jupyter-widgets/base",
            "top": null,
            "grid_column": null,
            "overflow_y": null,
            "overflow_x": null,
            "grid_auto_flow": null,
            "grid_area": null,
            "grid_template_columns": null,
            "flex": null,
            "_model_name": "LayoutModel",
            "justify_items": null,
            "grid_row": null,
            "max_height": null,
            "align_content": null,
            "visibility": null,
            "align_self": null,
            "height": null,
            "min_height": null,
            "padding": null,
            "grid_auto_rows": null,
            "grid_gap": null,
            "max_width": null,
            "order": null,
            "_view_module_version": "1.2.0",
            "grid_template_areas": null,
            "object_position": null,
            "object_fit": null,
            "grid_auto_columns": null,
            "margin": null,
            "display": null,
            "left": null
          }
        },
        "c678058eabc94a39b592cebdcf02d390": {
          "model_module": "@jupyter-widgets/controls",
          "model_name": "DescriptionStyleModel",
          "state": {
            "_view_name": "StyleView",
            "_model_name": "DescriptionStyleModel",
            "description_width": "",
            "_view_module": "@jupyter-widgets/base",
            "_model_module_version": "1.5.0",
            "_view_count": null,
            "_view_module_version": "1.2.0",
            "_model_module": "@jupyter-widgets/controls"
          }
        },
        "bf429eae4805428f989aed2e77a6ca16": {
          "model_module": "@jupyter-widgets/base",
          "model_name": "LayoutModel",
          "state": {
            "_view_name": "LayoutView",
            "grid_template_rows": null,
            "right": null,
            "justify_content": null,
            "_view_module": "@jupyter-widgets/base",
            "overflow": null,
            "_model_module_version": "1.2.0",
            "_view_count": null,
            "flex_flow": null,
            "width": null,
            "min_width": null,
            "border": null,
            "align_items": null,
            "bottom": null,
            "_model_module": "@jupyter-widgets/base",
            "top": null,
            "grid_column": null,
            "overflow_y": null,
            "overflow_x": null,
            "grid_auto_flow": null,
            "grid_area": null,
            "grid_template_columns": null,
            "flex": null,
            "_model_name": "LayoutModel",
            "justify_items": null,
            "grid_row": null,
            "max_height": null,
            "align_content": null,
            "visibility": null,
            "align_self": null,
            "height": null,
            "min_height": null,
            "padding": null,
            "grid_auto_rows": null,
            "grid_gap": null,
            "max_width": null,
            "order": null,
            "_view_module_version": "1.2.0",
            "grid_template_areas": null,
            "object_position": null,
            "object_fit": null,
            "grid_auto_columns": null,
            "margin": null,
            "display": null,
            "left": null
          }
        },
        "5252b111c1a14ac29284c076cd8bcdda": {
          "model_module": "@jupyter-widgets/base",
          "model_name": "LayoutModel",
          "state": {
            "_view_name": "LayoutView",
            "grid_template_rows": null,
            "right": null,
            "justify_content": null,
            "_view_module": "@jupyter-widgets/base",
            "overflow": null,
            "_model_module_version": "1.2.0",
            "_view_count": null,
            "flex_flow": null,
            "width": null,
            "min_width": null,
            "border": null,
            "align_items": null,
            "bottom": null,
            "_model_module": "@jupyter-widgets/base",
            "top": null,
            "grid_column": null,
            "overflow_y": null,
            "overflow_x": null,
            "grid_auto_flow": null,
            "grid_area": null,
            "grid_template_columns": null,
            "flex": null,
            "_model_name": "LayoutModel",
            "justify_items": null,
            "grid_row": null,
            "max_height": null,
            "align_content": null,
            "visibility": null,
            "align_self": null,
            "height": null,
            "min_height": null,
            "padding": null,
            "grid_auto_rows": null,
            "grid_gap": null,
            "max_width": null,
            "order": null,
            "_view_module_version": "1.2.0",
            "grid_template_areas": null,
            "object_position": null,
            "object_fit": null,
            "grid_auto_columns": null,
            "margin": null,
            "display": null,
            "left": null
          }
        }
      }
    }
  },
  "cells": [
    {
      "cell_type": "code",
      "metadata": {
        "id": "WaMpa7K8epqn"
      },
      "source": [
        "!pip install fastai --upgrade\n",
        "!pip install voila\n",
        "!jupyter serverextension enable --sys-prefix voila "
      ],
      "execution_count": null,
      "outputs": []
    },
    {
      "cell_type": "code",
      "metadata": {
        "id": "6lB-bJJBedyy"
      },
      "source": [
        "from fastai import *\n",
        "from fastai.vision.all import *\n",
        "from fastai.vision.widgets import *"
      ],
      "execution_count": 1,
      "outputs": []
    },
    {
      "cell_type": "code",
      "metadata": {
        "id": "-JQ-Vo6lej4h"
      },
      "source": [
        "path = Path()\n",
        "# path.ls(file_exts='.pkl')\n",
        "learn_inf = load_learner(path/'export.pkl')\n",
        "# learn_inf.predict('funny-cat.jpeg')"
      ],
      "execution_count": 8,
      "outputs": []
    },
    {
      "cell_type": "code",
      "metadata": {
        "colab": {
          "base_uri": "https://localhost:8080/",
          "height": 241,
          "referenced_widgets": [
            "da9112c180984a7ca45f298c0fc871e6",
            "606663871fc24ccc90387f76cc920c4a",
            "1e109208bdaf421eb276e8901c556ed2",
            "01859de2716b4156ac748d81028ed715",
            "8392ce87deea4c5e830b7afec32ce1df",
            "9ab8d2152cb04e36986ce42934951731",
            "6891bd09db0a42a0ac53f98d6099a2bf",
            "ce619022480a4906adb383c3d33ab588",
            "03005fab4af141ba9c4139d087257c48",
            "bd493c78943b4004a5246867f1b51d68",
            "38972340e0ab4db480603971fdda394b",
            "7ccbb1f3f7624d6c94ea54efc5eb67d6",
            "99366e6773d9466494ce3b28d6ebcf48",
            "c678058eabc94a39b592cebdcf02d390",
            "bf429eae4805428f989aed2e77a6ca16",
            "5252b111c1a14ac29284c076cd8bcdda"
          ]
        },
        "id": "iLE9sdUwgHz5",
        "outputId": "6fd95a35-447a-4986-deea-66c634dab5d4"
      },
      "source": [
        "# structure\n",
        "btn_upload = widgets.FileUpload()\n",
        "out_pl = widgets.Output()\n",
        "lbl_pred = widgets.Label()\n",
        "btn_run = widgets.Button(description='Classify')\n",
        "\n",
        "def on_click_classify(change):\n",
        "    img = PILImage.create(btn_upload.data[-1])\n",
        "    out_pl.clear_output()\n",
        "    with out_pl: display(img.to_thumb(128,128))\n",
        "    pred,pred_idx,probs = learn_inf.predict(img)\n",
        "    lbl_pred.value = f'Prediction: {pred}; Probability: {probs[pred_idx]:.04f}'\n",
        "\n",
        "btn_run.on_click(on_click_classify)\n",
        "\n",
        "VBox([widgets.Label('Find the expected performance of your next #pet post!'), \n",
        "      btn_upload, btn_run, out_pl, lbl_pred])"
      ],
      "execution_count": 10,
      "outputs": [
        {
          "output_type": "display_data",
          "data": {
            "application/vnd.jupyter.widget-view+json": {
              "model_id": "da9112c180984a7ca45f298c0fc871e6",
              "version_minor": 0,
              "version_major": 2
            },
            "text/plain": [
              "VBox(children=(Label(value='Find the expected performance of your next #pet post!'), FileUpload(value={}, desc…"
            ]
          },
          "metadata": {
            "tags": []
          }
        },
        {
          "output_type": "display_data",
          "data": {
            "text/html": [
              ""
            ],
            "text/plain": [
              "<IPython.core.display.HTML object>"
            ]
          },
          "metadata": {
            "tags": []
          }
        }
      ]
    }
  ]
}